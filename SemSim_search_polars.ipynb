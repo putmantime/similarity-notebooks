{
 "cells": [
  {
   "cell_type": "code",
   "execution_count": 55,
   "metadata": {
    "collapsed": true
   },
   "outputs": [],
   "source": [
    "import polars as pl\n",
    "import time"
   ]
  },
  {
   "cell_type": "code",
   "execution_count": null,
   "outputs": [],
   "source": [
    "edges = pl.read_csv('monarch-kg/monarch-kg_edges.tsv', separator='\\t')"
   ],
   "metadata": {
    "collapsed": false
   }
  },
  {
   "cell_type": "code",
   "execution_count": null,
   "outputs": [],
   "source": [
    "edges.head()"
   ],
   "metadata": {
    "collapsed": false
   }
  },
  {
   "cell_type": "code",
   "execution_count": null,
   "outputs": [],
   "source": [
    "d2p_edges = edges.filter(pl.col(\"category\").str.contains('biolink:DiseaseToPhenotypicFeatureAssociation'))\n",
    "d2p_filtered = d2p_edges.select(\n",
    "    pl.col(\"subject\"),\n",
    "    pl.col(\"object\")\n",
    ")\n",
    "print(d2p_filtered)\n",
    "\n",
    "\n",
    "# disease_phenotypes = edges[(edges['category'] == 'biolink:DiseaseToPhenotypicFeatureAssociation') & (edges['subject'].str.contains(\"MONDO\"))]"
   ],
   "metadata": {
    "collapsed": false
   }
  },
  {
   "cell_type": "code",
   "execution_count": null,
   "outputs": [],
   "source": [
    "phen_rel = pl.read_csv('phenio-relation-graph.tsv', separator='\\t')"
   ],
   "metadata": {
    "collapsed": false
   }
  },
  {
   "cell_type": "code",
   "execution_count": null,
   "outputs": [],
   "source": [
    "phen_rel.columns = ['subject', 'predicate', 'object']"
   ],
   "metadata": {
    "collapsed": false
   }
  },
  {
   "cell_type": "code",
   "execution_count": null,
   "outputs": [],
   "source": [
    "phen_rel.head()"
   ],
   "metadata": {
    "collapsed": false
   }
  },
  {
   "cell_type": "code",
   "execution_count": null,
   "outputs": [],
   "source": [
    "pr_isa = phen_rel.filter(\n",
    "    (pl.col(\"predicate\") == 'rdfs:subClassOf') &\n",
    "    (pl.col(\"subject\").str.contains('HP:')) &\n",
    "    (pl.col(\"object\").str.contains('HP:'))\n",
    ")\n",
    "pr_isa"
   ],
   "metadata": {
    "collapsed": false
   }
  },
  {
   "cell_type": "code",
   "execution_count": null,
   "outputs": [],
   "source": [
    "merged_d2p = pl.join(left=d2p_filtered, right=pr_isa, how='left', left_on='object', right_on='subject')\n",
    "merged_d2p.head()"
   ],
   "metadata": {
    "collapsed": false
   }
  },
  {
   "cell_type": "code",
   "execution_count": null,
   "outputs": [],
   "source": [
    "merged_d2p = d2p_filtered.join(pr_isa, left_on=\"object\", right_on=\"subject\", how=\"left\")\n",
    "merged_d2p.head()"
   ],
   "metadata": {
    "collapsed": false
   }
  },
  {
   "cell_type": "code",
   "execution_count": 237,
   "outputs": [],
   "source": [
    "# example disease MONDO:0030017\n",
    "mondo_0030017 = ['HP:0000001',\n",
    " 'HP:0000118',\n",
    " 'HP:0000707',\n",
    " 'HP:0000924',\n",
    " 'HP:0001252',\n",
    " 'HP:0001319',\n",
    " 'HP:0001367',\n",
    " 'HP:0001384',\n",
    " 'HP:0001507',\n",
    " 'HP:0001510',\n",
    " 'HP:0001511',\n",
    " 'HP:0001518',\n",
    " 'HP:0001871',\n",
    " 'HP:0001939',\n",
    " 'HP:0001941',\n",
    " 'HP:0002011',\n",
    " 'HP:0002013',\n",
    " 'HP:0002017',\n",
    " 'HP:0002020',\n",
    " 'HP:0002086',\n",
    " 'HP:0002151',\n",
    " 'HP:0002188',\n",
    " 'HP:0002587',\n",
    " 'HP:0002644',\n",
    " 'HP:0002795',\n",
    " 'HP:0002813',\n",
    " 'HP:0002814',\n",
    " 'HP:0002867',\n",
    " 'HP:0003011',\n",
    " 'HP:0003170',\n",
    " 'HP:0003236',\n",
    " 'HP:0003272',\n",
    " 'HP:0003287',\n",
    " 'HP:0003808',\n",
    " 'HP:0004323',\n",
    " 'HP:0004325',\n",
    " 'HP:0004360',\n",
    " 'HP:0004364',\n",
    " 'HP:0005262',\n",
    " 'HP:0008347',\n",
    " 'HP:0008807',\n",
    " 'HP:0008872',\n",
    " 'HP:0008972',\n",
    " 'HP:0010876',\n",
    " 'HP:0011017',\n",
    " 'HP:0011021',\n",
    " 'HP:0011024',\n",
    " 'HP:0011400',\n",
    " 'HP:0011458',\n",
    " 'HP:0011804',\n",
    " 'HP:0011842',\n",
    " 'HP:0011844',\n",
    " 'HP:0011922',\n",
    " 'HP:0011923',\n",
    " 'HP:0011924',\n",
    " 'HP:0011968',\n",
    " 'HP:0012103',\n",
    " 'HP:0012337',\n",
    " 'HP:0012415',\n",
    " 'HP:0012447',\n",
    " 'HP:0012448',\n",
    " 'HP:0012639',\n",
    " 'HP:0012719',\n",
    " 'HP:0025031',\n",
    " 'HP:0025032',\n",
    " 'HP:0025270',\n",
    " 'HP:0025354',\n",
    " 'HP:0032180',\n",
    " 'HP:0033127',\n",
    " 'HP:0040064',\n",
    " 'HP:0040068',\n",
    " 'HP:0040069',\n",
    " 'HP:0040081',\n",
    " 'HP:0100491',\n",
    " 'HP:0500165']"
   ],
   "metadata": {
    "collapsed": false
   }
  },
  {
   "cell_type": "code",
   "execution_count": 294,
   "outputs": [
    {
     "name": "stdout",
     "output_type": "stream",
     "text": [
      "0.6336119174957275\n"
     ]
    },
    {
     "data": {
      "text/plain": "shape: (10, 3)\n┌───────────────┬───────────────────────────────────┬──────────┐\n│ subject       ┆ object_right                      ┆ jaccard  │\n│ ---           ┆ ---                               ┆ ---      │\n│ str           ┆ str                               ┆ f64      │\n╞═══════════════╪═══════════════════════════════════╪══════════╡\n│ MONDO:0030017 ┆ HP:0000001,HP:0002587,HP:0002013… ┆ 1.0      │\n│ MONDO:0009703 ┆ HP:0000001,HP:0011021,HP:0004364… ┆ 0.33945  │\n│ MONDO:0032635 ┆ HP:0000001,HP:0003202,HP:0011805… ┆ 0.330357 │\n│ MONDO:0012510 ┆ HP:0000001,HP:0001254,HP:0000118… ┆ 0.323741 │\n│ …             ┆ …                                 ┆ …        │\n│ MONDO:0020727 ┆ HP:0000001,HP:0001298,HP:0000118… ┆ 0.316239 │\n│ MONDO:0032627 ┆ HP:0000001,HP:0003202,HP:0011805… ┆ 0.303922 │\n│ MONDO:0033282 ┆ HP:0000001,HP:0011021,HP:0004364… ┆ 0.303279 │\n│ MONDO:0014496 ┆ HP:0000001,HP:0002060,HP:0002352… ┆ 0.300885 │\n└───────────────┴───────────────────────────────────┴──────────┘",
      "text/html": "<div><style>\n.dataframe > thead > tr > th,\n.dataframe > tbody > tr > td {\n  text-align: right;\n}\n</style>\n<small>shape: (10, 3)</small><table border=\"1\" class=\"dataframe\"><thead><tr><th>subject</th><th>object_right</th><th>jaccard</th></tr><tr><td>str</td><td>str</td><td>f64</td></tr></thead><tbody><tr><td>&quot;MONDO:0030017&quot;</td><td>&quot;HP:0000001,HP:…</td><td>1.0</td></tr><tr><td>&quot;MONDO:0009703&quot;</td><td>&quot;HP:0000001,HP:…</td><td>0.33945</td></tr><tr><td>&quot;MONDO:0032635&quot;</td><td>&quot;HP:0000001,HP:…</td><td>0.330357</td></tr><tr><td>&quot;MONDO:0012510&quot;</td><td>&quot;HP:0000001,HP:…</td><td>0.323741</td></tr><tr><td>&quot;MONDO:0032628&quot;</td><td>&quot;HP:0000001,HP:…</td><td>0.32</td></tr><tr><td>&quot;MONDO:0032629&quot;</td><td>&quot;HP:0000001,HP:…</td><td>0.318681</td></tr><tr><td>&quot;MONDO:0020727&quot;</td><td>&quot;HP:0000001,HP:…</td><td>0.316239</td></tr><tr><td>&quot;MONDO:0032627&quot;</td><td>&quot;HP:0000001,HP:…</td><td>0.303922</td></tr><tr><td>&quot;MONDO:0033282&quot;</td><td>&quot;HP:0000001,HP:…</td><td>0.303279</td></tr><tr><td>&quot;MONDO:0014496&quot;</td><td>&quot;HP:0000001,HP:…</td><td>0.300885</td></tr></tbody></table></div>"
     },
     "execution_count": 294,
     "metadata": {},
     "output_type": "execute_result"
    }
   ],
   "source": [
    "import numpy as np\n",
    "all_sets = []\n",
    "def jaccard_index(set1, set2):\n",
    "    set1 = set(set1.split(\",\"))\n",
    "    all_sets.append(set1)\n",
    "    intersection = len(set1.intersection(set2))\n",
    "    union = len(set1.union(set2))\n",
    "    return intersection / union\n",
    "\n",
    "\n",
    "expanded_diseases = merged_d2p.groupby(\"subject\").agg(\n",
    "    pl.col(\"object_right\").str.concat(\",\")\n",
    ")\n",
    "start = time.time()\n",
    "scored_diseases = expanded_diseases.with_columns(\n",
    "      expanded_diseases['object_right'].apply(lambda x: jaccard_index(x, mondo_0030017)).alias('jaccard')\n",
    "    )\n",
    "end = time.time()\n",
    "print(end-start)\n",
    "scored_diseases.sort('jaccard', descending=True).head(10)"
   ],
   "metadata": {
    "collapsed": false
   }
  }
 ],
 "metadata": {
  "kernelspec": {
   "display_name": "Python 3",
   "language": "python",
   "name": "python3"
  },
  "language_info": {
   "codemirror_mode": {
    "name": "ipython",
    "version": 2
   },
   "file_extension": ".py",
   "mimetype": "text/x-python",
   "name": "python",
   "nbconvert_exporter": "python",
   "pygments_lexer": "ipython2",
   "version": "2.7.6"
  }
 },
 "nbformat": 4,
 "nbformat_minor": 0
}
