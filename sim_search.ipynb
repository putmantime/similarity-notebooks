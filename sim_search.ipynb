{
 "cells": [
  {
   "cell_type": "markdown",
   "source": [
    "1. Flatten the primary annotations and their closures in to a single list for each disease\n",
    "2. Do termset comparison of the query disease to each of the other diseases and calculates simple jaccard index.\n",
    "3. Sort the results by jaccard index and return the top 10 results."
   ],
   "metadata": {
    "collapsed": false
   }
  },
  {
   "cell_type": "code",
   "execution_count": 137,
   "outputs": [],
   "source": [
    "import pandas as pd\n",
    "import time"
   ],
   "metadata": {
    "collapsed": false
   }
  },
  {
   "cell_type": "markdown",
   "source": [
    "## Get D2P Associations from Monarch Edges"
   ],
   "metadata": {
    "collapsed": false
   }
  },
  {
   "cell_type": "code",
   "execution_count": 91,
   "outputs": [],
   "source": [
    "edges = pd.read_csv('monarch-kg (9)/monarch-kg_edges.tsv', sep='\\t', dtype=str)"
   ],
   "metadata": {
    "collapsed": false
   }
  },
  {
   "cell_type": "code",
   "execution_count": 92,
   "outputs": [],
   "source": [
    "disease_phenotypes = edges[(edges['category'] == 'biolink:DiseaseToPhenotypicFeatureAssociation') & (edges['subject'].str.contains(\"MONDO\"))]"
   ],
   "metadata": {
    "collapsed": false
   }
  },
  {
   "cell_type": "code",
   "execution_count": 97,
   "outputs": [
    {
     "data": {
      "text/plain": "               subject      object\n2869978  MONDO:0023659  HP:0011097\n2869979  MONDO:0023659  HP:0002187\n2869980  MONDO:0023659  HP:0001518\n2869981  MONDO:0023659  HP:0032792\n2869982  MONDO:0023659  HP:0011451",
      "text/html": "<div>\n<style scoped>\n    .dataframe tbody tr th:only-of-type {\n        vertical-align: middle;\n    }\n\n    .dataframe tbody tr th {\n        vertical-align: top;\n    }\n\n    .dataframe thead th {\n        text-align: right;\n    }\n</style>\n<table border=\"1\" class=\"dataframe\">\n  <thead>\n    <tr style=\"text-align: right;\">\n      <th></th>\n      <th>subject</th>\n      <th>object</th>\n    </tr>\n  </thead>\n  <tbody>\n    <tr>\n      <th>2869978</th>\n      <td>MONDO:0023659</td>\n      <td>HP:0011097</td>\n    </tr>\n    <tr>\n      <th>2869979</th>\n      <td>MONDO:0023659</td>\n      <td>HP:0002187</td>\n    </tr>\n    <tr>\n      <th>2869980</th>\n      <td>MONDO:0023659</td>\n      <td>HP:0001518</td>\n    </tr>\n    <tr>\n      <th>2869981</th>\n      <td>MONDO:0023659</td>\n      <td>HP:0032792</td>\n    </tr>\n    <tr>\n      <th>2869982</th>\n      <td>MONDO:0023659</td>\n      <td>HP:0011451</td>\n    </tr>\n  </tbody>\n</table>\n</div>"
     },
     "execution_count": 97,
     "metadata": {},
     "output_type": "execute_result"
    }
   ],
   "source": [
    "d2p_annotations = disease_phenotypes[['subject', 'object']]\n",
    "d2p_annotations.head()"
   ],
   "metadata": {
    "collapsed": false
   }
  },
  {
   "cell_type": "markdown",
   "source": [
    "## Get Inferred subClassOf relations from Phenio for all HP terms"
   ],
   "metadata": {
    "collapsed": false
   }
  },
  {
   "cell_type": "code",
   "execution_count": 3,
   "outputs": [],
   "source": [
    "phen_rel = pd.read_csv('phenio-relation-graph.tsv', sep='\\t', dtype=str)"
   ],
   "metadata": {
    "collapsed": false
   }
  },
  {
   "cell_type": "code",
   "execution_count": 5,
   "outputs": [],
   "source": [
    "phen_rel.columns = ['subject', 'predicate', 'object']"
   ],
   "metadata": {
    "collapsed": false
   }
  },
  {
   "cell_type": "code",
   "execution_count": 9,
   "outputs": [],
   "source": [
    "pr_isa = phen_rel[(phen_rel['predicate'] == 'rdfs:subClassOf') & (phen_rel['subject'].str.startswith('HP:')) & (phen_rel['object'].str.startswith('HP:'))]"
   ],
   "metadata": {
    "collapsed": false
   }
  },
  {
   "cell_type": "markdown",
   "source": [
    "## Join the D2P annotations to the inferred subClassOf relations"
   ],
   "metadata": {
    "collapsed": false
   }
  },
  {
   "cell_type": "code",
   "execution_count": 99,
   "outputs": [
    {
     "data": {
      "text/plain": "       subject_x    object_x   subject_y        predicate    object_y\n0  MONDO:0023659  HP:0011097  HP:0011097  rdfs:subClassOf  HP:0000001\n1  MONDO:0023659  HP:0011097  HP:0011097  rdfs:subClassOf  HP:0011097\n2  MONDO:0023659  HP:0011097  HP:0011097  rdfs:subClassOf  HP:0000118\n3  MONDO:0023659  HP:0011097  HP:0011097  rdfs:subClassOf  HP:0020219\n4  MONDO:0023659  HP:0011097  HP:0011097  rdfs:subClassOf  HP:0000707",
      "text/html": "<div>\n<style scoped>\n    .dataframe tbody tr th:only-of-type {\n        vertical-align: middle;\n    }\n\n    .dataframe tbody tr th {\n        vertical-align: top;\n    }\n\n    .dataframe thead th {\n        text-align: right;\n    }\n</style>\n<table border=\"1\" class=\"dataframe\">\n  <thead>\n    <tr style=\"text-align: right;\">\n      <th></th>\n      <th>subject_x</th>\n      <th>object_x</th>\n      <th>subject_y</th>\n      <th>predicate</th>\n      <th>object_y</th>\n    </tr>\n  </thead>\n  <tbody>\n    <tr>\n      <th>0</th>\n      <td>MONDO:0023659</td>\n      <td>HP:0011097</td>\n      <td>HP:0011097</td>\n      <td>rdfs:subClassOf</td>\n      <td>HP:0000001</td>\n    </tr>\n    <tr>\n      <th>1</th>\n      <td>MONDO:0023659</td>\n      <td>HP:0011097</td>\n      <td>HP:0011097</td>\n      <td>rdfs:subClassOf</td>\n      <td>HP:0011097</td>\n    </tr>\n    <tr>\n      <th>2</th>\n      <td>MONDO:0023659</td>\n      <td>HP:0011097</td>\n      <td>HP:0011097</td>\n      <td>rdfs:subClassOf</td>\n      <td>HP:0000118</td>\n    </tr>\n    <tr>\n      <th>3</th>\n      <td>MONDO:0023659</td>\n      <td>HP:0011097</td>\n      <td>HP:0011097</td>\n      <td>rdfs:subClassOf</td>\n      <td>HP:0020219</td>\n    </tr>\n    <tr>\n      <th>4</th>\n      <td>MONDO:0023659</td>\n      <td>HP:0011097</td>\n      <td>HP:0011097</td>\n      <td>rdfs:subClassOf</td>\n      <td>HP:0000707</td>\n    </tr>\n  </tbody>\n</table>\n</div>"
     },
     "execution_count": 99,
     "metadata": {},
     "output_type": "execute_result"
    }
   ],
   "source": [
    "merged_d2p = pd.merge(left=d2p_annotations, right=pr_isa, how='left', left_on='object', right_on='subject')\n",
    "merged_d2p.head()"
   ],
   "metadata": {
    "collapsed": false
   }
  },
  {
   "cell_type": "code",
   "execution_count": 100,
   "outputs": [],
   "source": [
    "expanded_diseases = merged_d2p.groupby('subject_x')['object_y'].apply(set).reset_index()"
   ],
   "metadata": {
    "collapsed": false
   }
  },
  {
   "cell_type": "code",
   "execution_count": 136,
   "outputs": [],
   "source": [
    "def jaccard_index(row, query_set):\n",
    "    set1 = row['object_y']\n",
    "    set2 = query_set\n",
    "    intersection = len(set(set1).intersection(set2))\n",
    "    union = len(set1.union(set2))\n",
    "    return intersection / union\n",
    "\n"
   ],
   "metadata": {
    "collapsed": false
   }
  },
  {
   "cell_type": "code",
   "execution_count": 139,
   "outputs": [
    {
     "data": {
      "text/plain": "{'HP:0000001',\n 'HP:0000008',\n 'HP:0000032',\n 'HP:0000035',\n 'HP:0000037',\n 'HP:0000044',\n 'HP:0000078',\n 'HP:0000080',\n 'HP:0000118',\n 'HP:0000119',\n 'HP:0000133',\n 'HP:0000135',\n 'HP:0000137',\n 'HP:0000138',\n 'HP:0000147',\n 'HP:0000811',\n 'HP:0000812',\n 'HP:0000818',\n 'HP:0008373',\n 'HP:0008715',\n 'HP:0010460',\n 'HP:0010461',\n 'HP:0012243',\n 'HP:0031065'}"
     },
     "execution_count": 139,
     "metadata": {},
     "output_type": "execute_result"
    }
   ],
   "source": [
    "rand_disease = expanded_diseases.sample(1)\n",
    "rand_disease_profile = rand_disease['object_y'].iloc[0]\n",
    "rand_disease_profile"
   ],
   "metadata": {
    "collapsed": false
   }
  },
  {
   "cell_type": "code",
   "execution_count": 151,
   "outputs": [
    {
     "name": "stdout",
     "output_type": "stream",
     "text": [
      "0.1592550277709961\n"
     ]
    },
    {
     "data": {
      "text/plain": "          subject_x                                           object_y  \\\n3273  MONDO:0010765  {HP:0000135, HP:0000037, HP:0000137, HP:000011...   \n9856  MONDO:0100249  {HP:0000135, HP:0000137, HP:0000022, HP:000011...   \n2721  MONDO:0010106  {HP:0000135, HP:0000119, HP:0003241, HP:000873...   \n5610  MONDO:0013913  {HP:0000135, HP:0000119, HP:0000036, HP:000324...   \n9735  MONDO:0054850  {HP:0000135, HP:0000119, HP:0003241, HP:003001...   \n7017  MONDO:0016281  {HP:0000047, HP:0000137, HP:0000119, HP:000002...   \n4501  MONDO:0012494  {HP:0000032, HP:0000001, HP:0012215, HP:000011...   \n9608  MONDO:0044626  {HP:0008222, HP:0000137, HP:0000119, HP:000014...   \n5401  MONDO:0013664  {HP:0000032, HP:0000001, HP:0000028, HP:001224...   \n5623  MONDO:0013926  {HP:0000135, HP:0000119, HP:0012638, HP:000324...   \n\n       jaccard  \n3273  1.000000  \n9856  0.588235  \n2721  0.433333  \n5610  0.384615  \n9735  0.371429  \n7017  0.369565  \n4501  0.360000  \n9608  0.358974  \n5401  0.357143  \n5623  0.357143  ",
      "text/html": "<div>\n<style scoped>\n    .dataframe tbody tr th:only-of-type {\n        vertical-align: middle;\n    }\n\n    .dataframe tbody tr th {\n        vertical-align: top;\n    }\n\n    .dataframe thead th {\n        text-align: right;\n    }\n</style>\n<table border=\"1\" class=\"dataframe\">\n  <thead>\n    <tr style=\"text-align: right;\">\n      <th></th>\n      <th>subject_x</th>\n      <th>object_y</th>\n      <th>jaccard</th>\n    </tr>\n  </thead>\n  <tbody>\n    <tr>\n      <th>3273</th>\n      <td>MONDO:0010765</td>\n      <td>{HP:0000135, HP:0000037, HP:0000137, HP:000011...</td>\n      <td>1.000000</td>\n    </tr>\n    <tr>\n      <th>9856</th>\n      <td>MONDO:0100249</td>\n      <td>{HP:0000135, HP:0000137, HP:0000022, HP:000011...</td>\n      <td>0.588235</td>\n    </tr>\n    <tr>\n      <th>2721</th>\n      <td>MONDO:0010106</td>\n      <td>{HP:0000135, HP:0000119, HP:0003241, HP:000873...</td>\n      <td>0.433333</td>\n    </tr>\n    <tr>\n      <th>5610</th>\n      <td>MONDO:0013913</td>\n      <td>{HP:0000135, HP:0000119, HP:0000036, HP:000324...</td>\n      <td>0.384615</td>\n    </tr>\n    <tr>\n      <th>9735</th>\n      <td>MONDO:0054850</td>\n      <td>{HP:0000135, HP:0000119, HP:0003241, HP:003001...</td>\n      <td>0.371429</td>\n    </tr>\n    <tr>\n      <th>7017</th>\n      <td>MONDO:0016281</td>\n      <td>{HP:0000047, HP:0000137, HP:0000119, HP:000002...</td>\n      <td>0.369565</td>\n    </tr>\n    <tr>\n      <th>4501</th>\n      <td>MONDO:0012494</td>\n      <td>{HP:0000032, HP:0000001, HP:0012215, HP:000011...</td>\n      <td>0.360000</td>\n    </tr>\n    <tr>\n      <th>9608</th>\n      <td>MONDO:0044626</td>\n      <td>{HP:0008222, HP:0000137, HP:0000119, HP:000014...</td>\n      <td>0.358974</td>\n    </tr>\n    <tr>\n      <th>5401</th>\n      <td>MONDO:0013664</td>\n      <td>{HP:0000032, HP:0000001, HP:0000028, HP:001224...</td>\n      <td>0.357143</td>\n    </tr>\n    <tr>\n      <th>5623</th>\n      <td>MONDO:0013926</td>\n      <td>{HP:0000135, HP:0000119, HP:0012638, HP:000324...</td>\n      <td>0.357143</td>\n    </tr>\n  </tbody>\n</table>\n</div>"
     },
     "execution_count": 151,
     "metadata": {},
     "output_type": "execute_result"
    }
   ],
   "source": [
    "start = time.time()\n",
    "expanded_diseases['jaccard'] = expanded_diseases.apply(jaccard_index, query_set=rand_disease_profile, axis=1)\n",
    "\n",
    "end = time.time()\n",
    "print(end-start)\n",
    "expanded_diseases.sort_values('jaccard', ascending=False).head(10)"
   ],
   "metadata": {
    "collapsed": false
   }
  },
  {
   "cell_type": "code",
   "execution_count": 150,
   "outputs": [
    {
     "name": "stdout",
     "output_type": "stream",
     "text": [
      "0.9199008941650391\n"
     ]
    }
   ],
   "source": [
    "start = time.time()\n",
    "scores = []\n",
    "for index, row in expanded_diseases.iterrows():\n",
    "    scores.append(jaccard_index(row, query_set=rand_disease_profile))\n",
    "end = time.time()\n",
    "print(end-start)"
   ],
   "metadata": {
    "collapsed": false
   }
  },
  {
   "cell_type": "code",
   "execution_count": null,
   "outputs": [],
   "source": [],
   "metadata": {
    "collapsed": false
   }
  }
 ],
 "metadata": {
  "kernelspec": {
   "display_name": "Python 3",
   "language": "python",
   "name": "python3"
  },
  "language_info": {
   "codemirror_mode": {
    "name": "ipython",
    "version": 2
   },
   "file_extension": ".py",
   "mimetype": "text/x-python",
   "name": "python",
   "nbconvert_exporter": "python",
   "pygments_lexer": "ipython2",
   "version": "2.7.6"
  }
 },
 "nbformat": 4,
 "nbformat_minor": 0
}
