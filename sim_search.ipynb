{
 "cells": [
  {
   "cell_type": "markdown",
   "source": [
    "1. Flatten the primary annotations and their closures in to a single list for each disease\n",
    "2. Do termset comparison of the query disease to each of the other diseases and calculates simple jaccard index.\n",
    "3. Sort the results by jaccard index and return the top 10 results."
   ],
   "metadata": {
    "collapsed": false
   }
  },
  {
   "cell_type": "code",
   "execution_count": 157,
   "outputs": [],
   "source": [
    "import pandas as pd\n",
    "import time\n",
    "from oaklib import get_adapter"
   ],
   "metadata": {
    "collapsed": false
   }
  },
  {
   "cell_type": "markdown",
   "source": [
    "## Get D2P Associations from Monarch Edges"
   ],
   "metadata": {
    "collapsed": false
   }
  },
  {
   "cell_type": "code",
   "execution_count": 91,
   "outputs": [],
   "source": [
    "edges = pd.read_csv('monarch-kg (9)/monarch-kg_edges.tsv', sep='\\t', dtype=str)"
   ],
   "metadata": {
    "collapsed": false
   }
  },
  {
   "cell_type": "code",
   "execution_count": 92,
   "outputs": [],
   "source": [
    "disease_phenotypes = edges[(edges['category'] == 'biolink:DiseaseToPhenotypicFeatureAssociation') & (edges['subject'].str.contains(\"MONDO\"))]"
   ],
   "metadata": {
    "collapsed": false
   }
  },
  {
   "cell_type": "code",
   "execution_count": 97,
   "outputs": [
    {
     "data": {
      "text/plain": "               subject      object\n2869978  MONDO:0023659  HP:0011097\n2869979  MONDO:0023659  HP:0002187\n2869980  MONDO:0023659  HP:0001518\n2869981  MONDO:0023659  HP:0032792\n2869982  MONDO:0023659  HP:0011451",
      "text/html": "<div>\n<style scoped>\n    .dataframe tbody tr th:only-of-type {\n        vertical-align: middle;\n    }\n\n    .dataframe tbody tr th {\n        vertical-align: top;\n    }\n\n    .dataframe thead th {\n        text-align: right;\n    }\n</style>\n<table border=\"1\" class=\"dataframe\">\n  <thead>\n    <tr style=\"text-align: right;\">\n      <th></th>\n      <th>subject</th>\n      <th>object</th>\n    </tr>\n  </thead>\n  <tbody>\n    <tr>\n      <th>2869978</th>\n      <td>MONDO:0023659</td>\n      <td>HP:0011097</td>\n    </tr>\n    <tr>\n      <th>2869979</th>\n      <td>MONDO:0023659</td>\n      <td>HP:0002187</td>\n    </tr>\n    <tr>\n      <th>2869980</th>\n      <td>MONDO:0023659</td>\n      <td>HP:0001518</td>\n    </tr>\n    <tr>\n      <th>2869981</th>\n      <td>MONDO:0023659</td>\n      <td>HP:0032792</td>\n    </tr>\n    <tr>\n      <th>2869982</th>\n      <td>MONDO:0023659</td>\n      <td>HP:0011451</td>\n    </tr>\n  </tbody>\n</table>\n</div>"
     },
     "execution_count": 97,
     "metadata": {},
     "output_type": "execute_result"
    }
   ],
   "source": [
    "d2p_annotations = disease_phenotypes[['subject', 'object']]\n",
    "d2p_annotations.head()"
   ],
   "metadata": {
    "collapsed": false
   }
  },
  {
   "cell_type": "markdown",
   "source": [
    "## Get Inferred subClassOf relations from Phenio for all HP terms"
   ],
   "metadata": {
    "collapsed": false
   }
  },
  {
   "cell_type": "code",
   "execution_count": 3,
   "outputs": [],
   "source": [
    "phen_rel = pd.read_csv('phenio-relation-graph.tsv', sep='\\t', dtype=str)"
   ],
   "metadata": {
    "collapsed": false
   }
  },
  {
   "cell_type": "code",
   "execution_count": 5,
   "outputs": [],
   "source": [
    "phen_rel.columns = ['subject', 'predicate', 'object']"
   ],
   "metadata": {
    "collapsed": false
   }
  },
  {
   "cell_type": "code",
   "execution_count": 9,
   "outputs": [],
   "source": [
    "pr_isa = phen_rel[(phen_rel['predicate'] == 'rdfs:subClassOf') & (phen_rel['subject'].str.startswith('HP:')) & (phen_rel['object'].str.startswith('HP:'))]"
   ],
   "metadata": {
    "collapsed": false
   }
  },
  {
   "cell_type": "markdown",
   "source": [
    "## Join the D2P annotations to the inferred subClassOf relations"
   ],
   "metadata": {
    "collapsed": false
   }
  },
  {
   "cell_type": "code",
   "execution_count": 99,
   "outputs": [
    {
     "data": {
      "text/plain": "       subject_x    object_x   subject_y        predicate    object_y\n0  MONDO:0023659  HP:0011097  HP:0011097  rdfs:subClassOf  HP:0000001\n1  MONDO:0023659  HP:0011097  HP:0011097  rdfs:subClassOf  HP:0011097\n2  MONDO:0023659  HP:0011097  HP:0011097  rdfs:subClassOf  HP:0000118\n3  MONDO:0023659  HP:0011097  HP:0011097  rdfs:subClassOf  HP:0020219\n4  MONDO:0023659  HP:0011097  HP:0011097  rdfs:subClassOf  HP:0000707",
      "text/html": "<div>\n<style scoped>\n    .dataframe tbody tr th:only-of-type {\n        vertical-align: middle;\n    }\n\n    .dataframe tbody tr th {\n        vertical-align: top;\n    }\n\n    .dataframe thead th {\n        text-align: right;\n    }\n</style>\n<table border=\"1\" class=\"dataframe\">\n  <thead>\n    <tr style=\"text-align: right;\">\n      <th></th>\n      <th>subject_x</th>\n      <th>object_x</th>\n      <th>subject_y</th>\n      <th>predicate</th>\n      <th>object_y</th>\n    </tr>\n  </thead>\n  <tbody>\n    <tr>\n      <th>0</th>\n      <td>MONDO:0023659</td>\n      <td>HP:0011097</td>\n      <td>HP:0011097</td>\n      <td>rdfs:subClassOf</td>\n      <td>HP:0000001</td>\n    </tr>\n    <tr>\n      <th>1</th>\n      <td>MONDO:0023659</td>\n      <td>HP:0011097</td>\n      <td>HP:0011097</td>\n      <td>rdfs:subClassOf</td>\n      <td>HP:0011097</td>\n    </tr>\n    <tr>\n      <th>2</th>\n      <td>MONDO:0023659</td>\n      <td>HP:0011097</td>\n      <td>HP:0011097</td>\n      <td>rdfs:subClassOf</td>\n      <td>HP:0000118</td>\n    </tr>\n    <tr>\n      <th>3</th>\n      <td>MONDO:0023659</td>\n      <td>HP:0011097</td>\n      <td>HP:0011097</td>\n      <td>rdfs:subClassOf</td>\n      <td>HP:0020219</td>\n    </tr>\n    <tr>\n      <th>4</th>\n      <td>MONDO:0023659</td>\n      <td>HP:0011097</td>\n      <td>HP:0011097</td>\n      <td>rdfs:subClassOf</td>\n      <td>HP:0000707</td>\n    </tr>\n  </tbody>\n</table>\n</div>"
     },
     "execution_count": 99,
     "metadata": {},
     "output_type": "execute_result"
    }
   ],
   "source": [
    "merged_d2p = pd.merge(left=d2p_annotations, right=pr_isa, how='left', left_on='object', right_on='subject')\n",
    "merged_d2p.head()"
   ],
   "metadata": {
    "collapsed": false
   }
  },
  {
   "cell_type": "markdown",
   "source": [
    "## Flatten the annotations and their closures in to a single list for each disease"
   ],
   "metadata": {
    "collapsed": false
   }
  },
  {
   "cell_type": "code",
   "execution_count": 100,
   "outputs": [],
   "source": [
    "expanded_diseases = merged_d2p.groupby('subject_x')['object_y'].apply(set).reset_index()"
   ],
   "metadata": {
    "collapsed": false
   }
  },
  {
   "cell_type": "markdown",
   "source": [
    "## Add labels to the diseases"
   ],
   "metadata": {
    "collapsed": false
   }
  },
  {
   "cell_type": "code",
   "execution_count": 162,
   "outputs": [],
   "source": [
    "handle = get_adapter(\"sqlite:obo:mondo\")\n",
    "expanded_diseases['subject_label'] = expanded_diseases['subject_x'].apply(lambda x: handle.label(x))"
   ],
   "metadata": {
    "collapsed": false
   }
  },
  {
   "cell_type": "markdown",
   "source": [
    "## Jaccard search"
   ],
   "metadata": {
    "collapsed": false
   }
  },
  {
   "cell_type": "code",
   "execution_count": 163,
   "outputs": [],
   "source": [
    "def jaccard_index(row, query_set):\n",
    "    set1 = row['object_y']\n",
    "    set2 = query_set\n",
    "    intersection = len(set(set1).intersection(set2))\n",
    "    union = len(set1.union(set2))\n",
    "    return intersection / union\n",
    "\n",
    "def get_label(id):\n",
    "\n",
    "    return adapter.get_label(id)"
   ],
   "metadata": {
    "collapsed": false
   }
  },
  {
   "cell_type": "markdown",
   "source": [
    "## Create a random disease profile"
   ],
   "metadata": {
    "collapsed": false
   }
  },
  {
   "cell_type": "code",
   "execution_count": 164,
   "outputs": [
    {
     "data": {
      "text/plain": "{'HP:0000001',\n 'HP:0000118',\n 'HP:0000152',\n 'HP:0000153',\n 'HP:0000157',\n 'HP:0000160',\n 'HP:0000163',\n 'HP:0000168',\n 'HP:0000212',\n 'HP:0000234',\n 'HP:0000271',\n 'HP:0000280',\n 'HP:0000315',\n 'HP:0000478',\n 'HP:0000479',\n 'HP:0000587',\n 'HP:0000648',\n 'HP:0000707',\n 'HP:0000708',\n 'HP:0000765',\n 'HP:0000818',\n 'HP:0000924',\n 'HP:0000925',\n 'HP:0000926',\n 'HP:0000943',\n 'HP:0000944',\n 'HP:0001098',\n 'HP:0001197',\n 'HP:0001250',\n 'HP:0001251',\n 'HP:0001252',\n 'HP:0001257',\n 'HP:0001268',\n 'HP:0001276',\n 'HP:0001288',\n 'HP:0001290',\n 'HP:0001376',\n 'HP:0001387',\n 'HP:0001392',\n 'HP:0001438',\n 'HP:0001507',\n 'HP:0001508',\n 'HP:0001622',\n 'HP:0001626',\n 'HP:0001627',\n 'HP:0001643',\n 'HP:0001743',\n 'HP:0001744',\n 'HP:0001787',\n 'HP:0001871',\n 'HP:0001881',\n 'HP:0001939',\n 'HP:0001982',\n 'HP:0001999',\n 'HP:0002011',\n 'HP:0002012',\n 'HP:0002015',\n 'HP:0002059',\n 'HP:0002060',\n 'HP:0002118',\n 'HP:0002119',\n 'HP:0002123',\n 'HP:0002197',\n 'HP:0002240',\n 'HP:0002344',\n 'HP:0002376',\n 'HP:0002493',\n 'HP:0002510',\n 'HP:0002597',\n 'HP:0002650',\n 'HP:0002673',\n 'HP:0002715',\n 'HP:0002753',\n 'HP:0002808',\n 'HP:0002813',\n 'HP:0002814',\n 'HP:0002823',\n 'HP:0002942',\n 'HP:0002977',\n 'HP:0003011',\n 'HP:0003103',\n 'HP:0003271',\n 'HP:0003312',\n 'HP:0003330',\n 'HP:0003366',\n 'HP:0003367',\n 'HP:0003468',\n 'HP:0003549',\n 'HP:0003649',\n 'HP:0003808',\n 'HP:0004311',\n 'HP:0004323',\n 'HP:0004325',\n 'HP:0004329',\n 'HP:0004342',\n 'HP:0004568',\n 'HP:0005619',\n 'HP:0006489',\n 'HP:0006490',\n 'HP:0007272',\n 'HP:0007281',\n 'HP:0007367',\n 'HP:0007369',\n 'HP:0008166',\n 'HP:0008417',\n 'HP:0008479',\n 'HP:0008515',\n 'HP:0008518',\n 'HP:0009115',\n 'HP:0009121',\n 'HP:0009122',\n 'HP:0009815',\n 'HP:0009826',\n 'HP:0010674',\n 'HP:0010808',\n 'HP:0010974',\n 'HP:0010987',\n 'HP:0011024',\n 'HP:0011314',\n 'HP:0011337',\n 'HP:0011442',\n 'HP:0011443',\n 'HP:0011446',\n 'HP:0011603',\n 'HP:0011729',\n 'HP:0011804',\n 'HP:0011830',\n 'HP:0011842',\n 'HP:0011843',\n 'HP:0011844',\n 'HP:0012368',\n 'HP:0012372',\n 'HP:0012379',\n 'HP:0012443',\n 'HP:0012444',\n 'HP:0012638',\n 'HP:0012639',\n 'HP:0012719',\n 'HP:0012759',\n 'HP:0012795',\n 'HP:0020047',\n 'HP:0020219',\n 'HP:0025015',\n 'HP:0025031',\n 'HP:0025032',\n 'HP:0025033',\n 'HP:0025270',\n 'HP:0025354',\n 'HP:0025408',\n 'HP:0025461',\n 'HP:0030680',\n 'HP:0030809',\n 'HP:0030962',\n 'HP:0031071',\n 'HP:0031816',\n 'HP:0032251',\n 'HP:0032677',\n 'HP:0032794',\n 'HP:0033044',\n 'HP:0033127',\n 'HP:0033353',\n 'HP:0034430',\n 'HP:0040064',\n 'HP:0040068',\n 'HP:0040069',\n 'HP:0100021',\n 'HP:0100022',\n 'HP:0100543',\n 'HP:0100547',\n 'HP:0100711',\n 'HP:0100712',\n 'HP:0100763',\n 'HP:0410042'}"
     },
     "execution_count": 164,
     "metadata": {},
     "output_type": "execute_result"
    }
   ],
   "source": [
    "rand_disease = expanded_diseases.sample(1)\n",
    "rand_disease_profile = rand_disease['object_y'].iloc[0]\n",
    "rand_disease_profile"
   ],
   "metadata": {
    "collapsed": false
   }
  },
  {
   "cell_type": "code",
   "execution_count": 167,
   "outputs": [
    {
     "data": {
      "text/plain": "                  subject_label      subject_x\n1993  GM1 gangliosidosis type 2  MONDO:0009261",
      "text/html": "<div>\n<style scoped>\n    .dataframe tbody tr th:only-of-type {\n        vertical-align: middle;\n    }\n\n    .dataframe tbody tr th {\n        vertical-align: top;\n    }\n\n    .dataframe thead th {\n        text-align: right;\n    }\n</style>\n<table border=\"1\" class=\"dataframe\">\n  <thead>\n    <tr style=\"text-align: right;\">\n      <th></th>\n      <th>subject_label</th>\n      <th>subject_x</th>\n    </tr>\n  </thead>\n  <tbody>\n    <tr>\n      <th>1993</th>\n      <td>GM1 gangliosidosis type 2</td>\n      <td>MONDO:0009261</td>\n    </tr>\n  </tbody>\n</table>\n</div>"
     },
     "execution_count": 167,
     "metadata": {},
     "output_type": "execute_result"
    }
   ],
   "source": [
    "rand_disease[['subject_label', 'subject_x']]"
   ],
   "metadata": {
    "collapsed": false
   }
  },
  {
   "cell_type": "markdown",
   "source": [
    "## Search for similar diseases using pandas apply"
   ],
   "metadata": {
    "collapsed": false
   }
  },
  {
   "cell_type": "code",
   "execution_count": 165,
   "outputs": [
    {
     "name": "stdout",
     "output_type": "stream",
     "text": [
      "0.2281661033630371\n"
     ]
    },
    {
     "data": {
      "text/plain": "                                         subject_label      subject_x  \\\n1993                         GM1 gangliosidosis type 2  MONDO:0009261   \n1994                         GM1 gangliosidosis type 3  MONDO:0009262   \n8175                        juvenile sialidosis type 2  MONDO:0019681   \n1986                                       fucosidosis  MONDO:0009254   \n7550                                GM1 gangliosidosis  MONDO:0018149   \n2423                     Niemann-Pick disease, type C1  MONDO:0009757   \n1998                           Gaucher disease type II  MONDO:0009266   \n1992                         GM1 gangliosidosis type 1  MONDO:0009260   \n2704                                  mucosulfatidosis  MONDO:0010088   \n2654  free sialic acid storage disease, infantile form  MONDO:0010027   \n\n       jaccard  \n1993  1.000000  \n1994  0.383929  \n8175  0.356000  \n1986  0.352381  \n7550  0.348901  \n2423  0.336406  \n1998  0.334677  \n1992  0.332394  \n2704  0.327869  \n2654  0.318008  ",
      "text/html": "<div>\n<style scoped>\n    .dataframe tbody tr th:only-of-type {\n        vertical-align: middle;\n    }\n\n    .dataframe tbody tr th {\n        vertical-align: top;\n    }\n\n    .dataframe thead th {\n        text-align: right;\n    }\n</style>\n<table border=\"1\" class=\"dataframe\">\n  <thead>\n    <tr style=\"text-align: right;\">\n      <th></th>\n      <th>subject_label</th>\n      <th>subject_x</th>\n      <th>jaccard</th>\n    </tr>\n  </thead>\n  <tbody>\n    <tr>\n      <th>1993</th>\n      <td>GM1 gangliosidosis type 2</td>\n      <td>MONDO:0009261</td>\n      <td>1.000000</td>\n    </tr>\n    <tr>\n      <th>1994</th>\n      <td>GM1 gangliosidosis type 3</td>\n      <td>MONDO:0009262</td>\n      <td>0.383929</td>\n    </tr>\n    <tr>\n      <th>8175</th>\n      <td>juvenile sialidosis type 2</td>\n      <td>MONDO:0019681</td>\n      <td>0.356000</td>\n    </tr>\n    <tr>\n      <th>1986</th>\n      <td>fucosidosis</td>\n      <td>MONDO:0009254</td>\n      <td>0.352381</td>\n    </tr>\n    <tr>\n      <th>7550</th>\n      <td>GM1 gangliosidosis</td>\n      <td>MONDO:0018149</td>\n      <td>0.348901</td>\n    </tr>\n    <tr>\n      <th>2423</th>\n      <td>Niemann-Pick disease, type C1</td>\n      <td>MONDO:0009757</td>\n      <td>0.336406</td>\n    </tr>\n    <tr>\n      <th>1998</th>\n      <td>Gaucher disease type II</td>\n      <td>MONDO:0009266</td>\n      <td>0.334677</td>\n    </tr>\n    <tr>\n      <th>1992</th>\n      <td>GM1 gangliosidosis type 1</td>\n      <td>MONDO:0009260</td>\n      <td>0.332394</td>\n    </tr>\n    <tr>\n      <th>2704</th>\n      <td>mucosulfatidosis</td>\n      <td>MONDO:0010088</td>\n      <td>0.327869</td>\n    </tr>\n    <tr>\n      <th>2654</th>\n      <td>free sialic acid storage disease, infantile form</td>\n      <td>MONDO:0010027</td>\n      <td>0.318008</td>\n    </tr>\n  </tbody>\n</table>\n</div>"
     },
     "execution_count": 165,
     "metadata": {},
     "output_type": "execute_result"
    }
   ],
   "source": [
    "start = time.time()\n",
    "expanded_diseases['jaccard'] = expanded_diseases.apply(jaccard_index, query_set=rand_disease_profile, axis=1)\n",
    "end = time.time()\n",
    "print(end-start)\n",
    "expanded_diseases.sort_values('jaccard', ascending=False).head(10)[['subject_label', 'subject_x', 'jaccard']]"
   ],
   "metadata": {
    "collapsed": false
   }
  },
  {
   "cell_type": "markdown",
   "source": [
    "## Search for similar diseases using a for loop"
   ],
   "metadata": {
    "collapsed": false
   }
  },
  {
   "cell_type": "code",
   "execution_count": 168,
   "outputs": [
    {
     "name": "stdout",
     "output_type": "stream",
     "text": [
      "0.7511029243469238\n"
     ]
    }
   ],
   "source": [
    "start = time.time()\n",
    "scores = []\n",
    "for index, row in expanded_diseases.iterrows():\n",
    "    scores.append(jaccard_index(row, query_set=rand_disease_profile))\n",
    "end = time.time()\n",
    "print(end-start)"
   ],
   "metadata": {
    "collapsed": false
   }
  }
 ],
 "metadata": {
  "kernelspec": {
   "display_name": "Python 3",
   "language": "python",
   "name": "python3"
  },
  "language_info": {
   "codemirror_mode": {
    "name": "ipython",
    "version": 2
   },
   "file_extension": ".py",
   "mimetype": "text/x-python",
   "name": "python",
   "nbconvert_exporter": "python",
   "pygments_lexer": "ipython2",
   "version": "2.7.6"
  }
 },
 "nbformat": 4,
 "nbformat_minor": 0
}
