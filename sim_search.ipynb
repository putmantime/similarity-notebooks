{
 "cells": [
  {
   "cell_type": "markdown",
   "source": [
    "1. Flatten the primary annotations and their closures in to a single list for each disease\n",
    "2. Do termset comparison of the query disease to each of the other diseases and calculates simple jaccard index.\n",
    "3. Sort the results by jaccard index and return the top 10 results."
   ],
   "metadata": {
    "collapsed": false
   }
  },
  {
   "cell_type": "code",
   "execution_count": 208,
   "outputs": [],
   "source": [
    "import pandas as pd\n",
    "import time\n",
    "import math\n",
    "from oaklib.datamodels.vocabulary import OWL_THING\n",
    "from oaklib import get_adapter\n",
    "from oaklib.types import CURIE, PRED_CURIE\n",
    "from oaklib.interfaces.obograph_interface import OboGraphInterface\n",
    "from oaklib.interfaces.basic_ontology_interface import BasicOntologyInterface\n",
    "from oaklib.interfaces.semsim_interface import SemanticSimilarityInterface\n",
    "from typing import Iterable, Iterator, List, Optional, Tuple\n",
    "\n",
    "from oaklib.implementations.ubergraph.ubergraph_implementation import UbergraphImplementation\n",
    "from oaklib.resource import OntologyResource"
   ],
   "metadata": {
    "collapsed": false
   }
  },
  {
   "cell_type": "markdown",
   "source": [
    "## Get D2P Associations from Monarch Edges"
   ],
   "metadata": {
    "collapsed": false
   }
  },
  {
   "cell_type": "code",
   "execution_count": 210,
   "outputs": [],
   "source": [
    "edges = pd.read_csv('monarch-kg/monarch-kg_edges.tsv', sep='\\t', dtype=str)"
   ],
   "metadata": {
    "collapsed": false
   }
  },
  {
   "cell_type": "code",
   "execution_count": 211,
   "outputs": [],
   "source": [
    "disease_phenotypes = edges[(edges['category'] == 'biolink:DiseaseToPhenotypicFeatureAssociation') & (edges['subject'].str.contains(\"MONDO\"))]"
   ],
   "metadata": {
    "collapsed": false
   }
  },
  {
   "cell_type": "code",
   "execution_count": 212,
   "outputs": [
    {
     "data": {
      "text/plain": "               subject      object\n2869978  MONDO:0023659  HP:0011097\n2869979  MONDO:0023659  HP:0002187\n2869980  MONDO:0023659  HP:0001518\n2869981  MONDO:0023659  HP:0032792\n2869982  MONDO:0023659  HP:0011451",
      "text/html": "<div>\n<style scoped>\n    .dataframe tbody tr th:only-of-type {\n        vertical-align: middle;\n    }\n\n    .dataframe tbody tr th {\n        vertical-align: top;\n    }\n\n    .dataframe thead th {\n        text-align: right;\n    }\n</style>\n<table border=\"1\" class=\"dataframe\">\n  <thead>\n    <tr style=\"text-align: right;\">\n      <th></th>\n      <th>subject</th>\n      <th>object</th>\n    </tr>\n  </thead>\n  <tbody>\n    <tr>\n      <th>2869978</th>\n      <td>MONDO:0023659</td>\n      <td>HP:0011097</td>\n    </tr>\n    <tr>\n      <th>2869979</th>\n      <td>MONDO:0023659</td>\n      <td>HP:0002187</td>\n    </tr>\n    <tr>\n      <th>2869980</th>\n      <td>MONDO:0023659</td>\n      <td>HP:0001518</td>\n    </tr>\n    <tr>\n      <th>2869981</th>\n      <td>MONDO:0023659</td>\n      <td>HP:0032792</td>\n    </tr>\n    <tr>\n      <th>2869982</th>\n      <td>MONDO:0023659</td>\n      <td>HP:0011451</td>\n    </tr>\n  </tbody>\n</table>\n</div>"
     },
     "execution_count": 212,
     "metadata": {},
     "output_type": "execute_result"
    }
   ],
   "source": [
    "d2p_annotations = disease_phenotypes[['subject', 'object']]\n",
    "d2p_annotations.head()"
   ],
   "metadata": {
    "collapsed": false
   }
  },
  {
   "cell_type": "markdown",
   "source": [
    "## Get Inferred subClassOf relations from Phenio for all HP terms"
   ],
   "metadata": {
    "collapsed": false
   }
  },
  {
   "cell_type": "code",
   "execution_count": 213,
   "outputs": [],
   "source": [
    "phen_rel = pd.read_csv('phenio-relation-graph.tsv', sep='\\t', dtype=str)"
   ],
   "metadata": {
    "collapsed": false
   }
  },
  {
   "cell_type": "code",
   "execution_count": 214,
   "outputs": [],
   "source": [
    "phen_rel.columns = ['subject', 'predicate', 'object']"
   ],
   "metadata": {
    "collapsed": false
   }
  },
  {
   "cell_type": "code",
   "execution_count": 215,
   "outputs": [],
   "source": [
    "pr_isa = phen_rel[(phen_rel['predicate'] == 'rdfs:subClassOf') & (phen_rel['subject'].str.startswith('HP:')) & (phen_rel['object'].str.startswith('HP:'))]"
   ],
   "metadata": {
    "collapsed": false
   }
  },
  {
   "cell_type": "markdown",
   "source": [
    "## Join the D2P annotations to the inferred subClassOf relations"
   ],
   "metadata": {
    "collapsed": false
   }
  },
  {
   "cell_type": "code",
   "execution_count": 216,
   "outputs": [
    {
     "data": {
      "text/plain": "       subject_x    object_x   subject_y        predicate    object_y\n0  MONDO:0023659  HP:0011097  HP:0011097  rdfs:subClassOf  HP:0000001\n1  MONDO:0023659  HP:0011097  HP:0011097  rdfs:subClassOf  HP:0011097\n2  MONDO:0023659  HP:0011097  HP:0011097  rdfs:subClassOf  HP:0000118\n3  MONDO:0023659  HP:0011097  HP:0011097  rdfs:subClassOf  HP:0020219\n4  MONDO:0023659  HP:0011097  HP:0011097  rdfs:subClassOf  HP:0000707",
      "text/html": "<div>\n<style scoped>\n    .dataframe tbody tr th:only-of-type {\n        vertical-align: middle;\n    }\n\n    .dataframe tbody tr th {\n        vertical-align: top;\n    }\n\n    .dataframe thead th {\n        text-align: right;\n    }\n</style>\n<table border=\"1\" class=\"dataframe\">\n  <thead>\n    <tr style=\"text-align: right;\">\n      <th></th>\n      <th>subject_x</th>\n      <th>object_x</th>\n      <th>subject_y</th>\n      <th>predicate</th>\n      <th>object_y</th>\n    </tr>\n  </thead>\n  <tbody>\n    <tr>\n      <th>0</th>\n      <td>MONDO:0023659</td>\n      <td>HP:0011097</td>\n      <td>HP:0011097</td>\n      <td>rdfs:subClassOf</td>\n      <td>HP:0000001</td>\n    </tr>\n    <tr>\n      <th>1</th>\n      <td>MONDO:0023659</td>\n      <td>HP:0011097</td>\n      <td>HP:0011097</td>\n      <td>rdfs:subClassOf</td>\n      <td>HP:0011097</td>\n    </tr>\n    <tr>\n      <th>2</th>\n      <td>MONDO:0023659</td>\n      <td>HP:0011097</td>\n      <td>HP:0011097</td>\n      <td>rdfs:subClassOf</td>\n      <td>HP:0000118</td>\n    </tr>\n    <tr>\n      <th>3</th>\n      <td>MONDO:0023659</td>\n      <td>HP:0011097</td>\n      <td>HP:0011097</td>\n      <td>rdfs:subClassOf</td>\n      <td>HP:0020219</td>\n    </tr>\n    <tr>\n      <th>4</th>\n      <td>MONDO:0023659</td>\n      <td>HP:0011097</td>\n      <td>HP:0011097</td>\n      <td>rdfs:subClassOf</td>\n      <td>HP:0000707</td>\n    </tr>\n  </tbody>\n</table>\n</div>"
     },
     "execution_count": 216,
     "metadata": {},
     "output_type": "execute_result"
    }
   ],
   "source": [
    "merged_d2p = pd.merge(left=d2p_annotations, right=pr_isa, how='left', left_on='object', right_on='subject')\n",
    "merged_d2p.head()"
   ],
   "metadata": {
    "collapsed": false
   }
  },
  {
   "cell_type": "markdown",
   "source": [
    "## Flatten the annotations and their closures in to a single list for each disease"
   ],
   "metadata": {
    "collapsed": false
   }
  },
  {
   "cell_type": "code",
   "execution_count": 217,
   "outputs": [],
   "source": [
    "expanded_diseases = merged_d2p.groupby('subject_x')['object_y'].apply(set).reset_index()"
   ],
   "metadata": {
    "collapsed": false
   }
  },
  {
   "cell_type": "markdown",
   "source": [
    "## Add labels to the diseases"
   ],
   "metadata": {
    "collapsed": false
   }
  },
  {
   "cell_type": "code",
   "execution_count": 218,
   "outputs": [],
   "source": [
    "handle = get_adapter(\"sqlite:obo:mondo\")\n",
    "expanded_diseases['subject_label'] = expanded_diseases['subject_x'].apply(lambda x: handle.label(x))"
   ],
   "metadata": {
    "collapsed": false
   }
  },
  {
   "cell_type": "markdown",
   "source": [
    "## Jaccard search"
   ],
   "metadata": {
    "collapsed": false
   }
  },
  {
   "cell_type": "code",
   "execution_count": 219,
   "outputs": [],
   "source": [
    "def jaccard_index(row, query_set):\n",
    "    set1 = row['object_y']\n",
    "    set2 = query_set\n",
    "    intersection = len(set(set1).intersection(set2))\n",
    "    union = len(set1.union(set2))\n",
    "    return intersection / union\n",
    "\n",
    "def get_label(id):\n",
    "\n",
    "    return adapter.get_label(id)"
   ],
   "metadata": {
    "collapsed": false
   }
  },
  {
   "cell_type": "markdown",
   "source": [
    "## Create a random disease profile"
   ],
   "metadata": {
    "collapsed": false
   }
  },
  {
   "cell_type": "code",
   "execution_count": 227,
   "outputs": [],
   "source": [
    "rand_disease = expanded_diseases.sample(1)\n",
    "rand_disease_profile = rand_disease['object_y'].iloc[0]\n",
    "rand_disease_profile\n",
    "# example disease MONDO:0030017\n",
    "mondo_0030017 = {'HP:0000001',\n",
    " 'HP:0000118',\n",
    " 'HP:0000707',\n",
    " 'HP:0000924',\n",
    " 'HP:0001252',\n",
    " 'HP:0001319',\n",
    " 'HP:0001367',\n",
    " 'HP:0001384',\n",
    " 'HP:0001507',\n",
    " 'HP:0001510',\n",
    " 'HP:0001511',\n",
    " 'HP:0001518',\n",
    " 'HP:0001871',\n",
    " 'HP:0001939',\n",
    " 'HP:0001941',\n",
    " 'HP:0002011',\n",
    " 'HP:0002013',\n",
    " 'HP:0002017',\n",
    " 'HP:0002020',\n",
    " 'HP:0002086',\n",
    " 'HP:0002151',\n",
    " 'HP:0002188',\n",
    " 'HP:0002587',\n",
    " 'HP:0002644',\n",
    " 'HP:0002795',\n",
    " 'HP:0002813',\n",
    " 'HP:0002814',\n",
    " 'HP:0002867',\n",
    " 'HP:0003011',\n",
    " 'HP:0003170',\n",
    " 'HP:0003236',\n",
    " 'HP:0003272',\n",
    " 'HP:0003287',\n",
    " 'HP:0003808',\n",
    " 'HP:0004323',\n",
    " 'HP:0004325',\n",
    " 'HP:0004360',\n",
    " 'HP:0004364',\n",
    " 'HP:0005262',\n",
    " 'HP:0008347',\n",
    " 'HP:0008807',\n",
    " 'HP:0008872',\n",
    " 'HP:0008972',\n",
    " 'HP:0010876',\n",
    " 'HP:0011017',\n",
    " 'HP:0011021',\n",
    " 'HP:0011024',\n",
    " 'HP:0011400',\n",
    " 'HP:0011458',\n",
    " 'HP:0011804',\n",
    " 'HP:0011842',\n",
    " 'HP:0011844',\n",
    " 'HP:0011922',\n",
    " 'HP:0011923',\n",
    " 'HP:0011924',\n",
    " 'HP:0011968',\n",
    " 'HP:0012103',\n",
    " 'HP:0012337',\n",
    " 'HP:0012415',\n",
    " 'HP:0012447',\n",
    " 'HP:0012448',\n",
    " 'HP:0012639',\n",
    " 'HP:0012719',\n",
    " 'HP:0025031',\n",
    " 'HP:0025032',\n",
    " 'HP:0025270',\n",
    " 'HP:0025354',\n",
    " 'HP:0032180',\n",
    " 'HP:0033127',\n",
    " 'HP:0040064',\n",
    " 'HP:0040068',\n",
    " 'HP:0040069',\n",
    " 'HP:0040081',\n",
    " 'HP:0100491',\n",
    " 'HP:0500165'}"
   ],
   "metadata": {
    "collapsed": false
   }
  },
  {
   "cell_type": "code",
   "execution_count": 221,
   "outputs": [
    {
     "data": {
      "text/plain": "                                         subject_label      subject_x\n8613  combined oxidative phosphorylation deficiency 43  MONDO:0030017",
      "text/html": "<div>\n<style scoped>\n    .dataframe tbody tr th:only-of-type {\n        vertical-align: middle;\n    }\n\n    .dataframe tbody tr th {\n        vertical-align: top;\n    }\n\n    .dataframe thead th {\n        text-align: right;\n    }\n</style>\n<table border=\"1\" class=\"dataframe\">\n  <thead>\n    <tr style=\"text-align: right;\">\n      <th></th>\n      <th>subject_label</th>\n      <th>subject_x</th>\n    </tr>\n  </thead>\n  <tbody>\n    <tr>\n      <th>8613</th>\n      <td>combined oxidative phosphorylation deficiency 43</td>\n      <td>MONDO:0030017</td>\n    </tr>\n  </tbody>\n</table>\n</div>"
     },
     "execution_count": 221,
     "metadata": {},
     "output_type": "execute_result"
    }
   ],
   "source": [
    "rand_disease[['subject_label', 'subject_x']]"
   ],
   "metadata": {
    "collapsed": false
   }
  },
  {
   "cell_type": "markdown",
   "source": [
    "## Search for similar diseases using pandas apply"
   ],
   "metadata": {
    "collapsed": false
   }
  },
  {
   "cell_type": "code",
   "execution_count": 228,
   "outputs": [
    {
     "name": "stdout",
     "output_type": "stream",
     "text": [
      "0.6687829494476318\n"
     ]
    },
    {
     "data": {
      "text/plain": "                                          subject_label      subject_x  \\\n8613   combined oxidative phosphorylation deficiency 43  MONDO:0030017   \n2379            myopathy with abnormal lipid metabolism  MONDO:0009703   \n9083  mitochondrial complex 1 deficiency, nuclear ty...  MONDO:0032635   \n4515   combined oxidative phosphorylation defect type 2  MONDO:0012510   \n9076  mitochondrial complex 1 deficiency, nuclear ty...  MONDO:0032628   \n9077  mitochondrial complex 1 deficiency, nuclear ty...  MONDO:0032629   \n8361   combined oxidative phosphorylation deficiency 22  MONDO:0020727   \n9075  mitochondrial complex 1 deficiency, nuclear ty...  MONDO:0032627   \n9395     multiple mitochondrial dysfunctions syndrome 5  MONDO:0033282   \n6164  mitochondrial complex III deficiency nuclear t...  MONDO:0014496   \n\n       jaccard  \n8613  1.000000  \n2379  0.339450  \n9083  0.330357  \n4515  0.323741  \n9076  0.320000  \n9077  0.318681  \n8361  0.316239  \n9075  0.303922  \n9395  0.303279  \n6164  0.300885  ",
      "text/html": "<div>\n<style scoped>\n    .dataframe tbody tr th:only-of-type {\n        vertical-align: middle;\n    }\n\n    .dataframe tbody tr th {\n        vertical-align: top;\n    }\n\n    .dataframe thead th {\n        text-align: right;\n    }\n</style>\n<table border=\"1\" class=\"dataframe\">\n  <thead>\n    <tr style=\"text-align: right;\">\n      <th></th>\n      <th>subject_label</th>\n      <th>subject_x</th>\n      <th>jaccard</th>\n    </tr>\n  </thead>\n  <tbody>\n    <tr>\n      <th>8613</th>\n      <td>combined oxidative phosphorylation deficiency 43</td>\n      <td>MONDO:0030017</td>\n      <td>1.000000</td>\n    </tr>\n    <tr>\n      <th>2379</th>\n      <td>myopathy with abnormal lipid metabolism</td>\n      <td>MONDO:0009703</td>\n      <td>0.339450</td>\n    </tr>\n    <tr>\n      <th>9083</th>\n      <td>mitochondrial complex 1 deficiency, nuclear ty...</td>\n      <td>MONDO:0032635</td>\n      <td>0.330357</td>\n    </tr>\n    <tr>\n      <th>4515</th>\n      <td>combined oxidative phosphorylation defect type 2</td>\n      <td>MONDO:0012510</td>\n      <td>0.323741</td>\n    </tr>\n    <tr>\n      <th>9076</th>\n      <td>mitochondrial complex 1 deficiency, nuclear ty...</td>\n      <td>MONDO:0032628</td>\n      <td>0.320000</td>\n    </tr>\n    <tr>\n      <th>9077</th>\n      <td>mitochondrial complex 1 deficiency, nuclear ty...</td>\n      <td>MONDO:0032629</td>\n      <td>0.318681</td>\n    </tr>\n    <tr>\n      <th>8361</th>\n      <td>combined oxidative phosphorylation deficiency 22</td>\n      <td>MONDO:0020727</td>\n      <td>0.316239</td>\n    </tr>\n    <tr>\n      <th>9075</th>\n      <td>mitochondrial complex 1 deficiency, nuclear ty...</td>\n      <td>MONDO:0032627</td>\n      <td>0.303922</td>\n    </tr>\n    <tr>\n      <th>9395</th>\n      <td>multiple mitochondrial dysfunctions syndrome 5</td>\n      <td>MONDO:0033282</td>\n      <td>0.303279</td>\n    </tr>\n    <tr>\n      <th>6164</th>\n      <td>mitochondrial complex III deficiency nuclear t...</td>\n      <td>MONDO:0014496</td>\n      <td>0.300885</td>\n    </tr>\n  </tbody>\n</table>\n</div>"
     },
     "execution_count": 228,
     "metadata": {},
     "output_type": "execute_result"
    }
   ],
   "source": [
    "start = time.time()\n",
    "expanded_diseases['jaccard'] = expanded_diseases.apply(jaccard_index, query_set=mondo_0030017, axis=1)\n",
    "end = time.time()\n",
    "print(end-start)\n",
    "expanded_diseases.sort_values('jaccard', ascending=False).head(10)[['subject_label', 'subject_x', 'jaccard']]"
   ],
   "metadata": {
    "collapsed": false
   }
  },
  {
   "cell_type": "markdown",
   "source": [
    "## Search for similar diseases using a for loop"
   ],
   "metadata": {
    "collapsed": false
   }
  },
  {
   "cell_type": "code",
   "execution_count": 223,
   "outputs": [
    {
     "name": "stdout",
     "output_type": "stream",
     "text": [
      "0.7271339893341064\n"
     ]
    }
   ],
   "source": [
    "start = time.time()\n",
    "scores = []\n",
    "for index, row in expanded_diseases.iterrows():\n",
    "    scores.append(jaccard_index(row, query_set=rand_disease_profile))\n",
    "end = time.time()\n",
    "print(end-start)"
   ],
   "metadata": {
    "collapsed": false
   }
  },
  {
   "cell_type": "code",
   "execution_count": 226,
   "outputs": [
    {
     "data": {
      "text/plain": "75"
     },
     "execution_count": 226,
     "metadata": {},
     "output_type": "execute_result"
    }
   ],
   "source": [
    "len(rand_disease_profile)"
   ],
   "metadata": {
    "collapsed": false
   }
  },
  {
   "cell_type": "code",
   "execution_count": null,
   "outputs": [],
   "source": [],
   "metadata": {
    "collapsed": false
   }
  },
  {
   "cell_type": "code",
   "execution_count": 224,
   "outputs": [],
   "source": [
    "oi = UbergraphImplementation()"
   ],
   "metadata": {
    "collapsed": false
   }
  },
  {
   "cell_type": "code",
   "execution_count": 225,
   "outputs": [
    {
     "name": "stdout",
     "output_type": "stream",
     "text": [
      "3.04059996e-37\n",
      "3.15162319e-26\n",
      "-1.98508264e-23\n",
      "1.63806185e-40\n",
      "100.0\n",
      "1.89813657e-36\n",
      "3.41089861e-35\n",
      "4.53060232e-35\n",
      "0.0\n",
      "-1.55273663e-36\n",
      "-1.04565136e-31\n",
      "0.0\n",
      "0.0\n",
      "100.0\n",
      "0.0\n",
      "0.0\n",
      "-6.61774151e-23\n",
      "2.18062173e-33\n",
      "-2.61261948e-06\n",
      "5.12845678e-36\n",
      "100.0\n",
      "2.06913564e-14\n",
      "39934958200000.0\n",
      "1.89813657e-36\n",
      "6244596.5\n",
      "-6.9949896e-29\n",
      "1.89813657e-36\n",
      "100.0\n",
      "0.0\n",
      "-64587319700000.0\n",
      "-194913.062\n",
      "0.0\n",
      "4.11030533e-06\n",
      "0.249956116\n",
      "-1.36959142e-11\n",
      "-1.35482623e-14\n",
      "0.0\n",
      "1.31732527e-31\n",
      "-6.14219105e-39\n",
      "100.0\n",
      "-5.72592884e-35\n",
      "100.0\n",
      "-12876552200.0\n",
      "1.39171549e-37\n",
      "294265289000000.0\n",
      "1.89813657e-36\n",
      "-199707658000000.0\n",
      "0.0\n",
      "-1.27000214e-29\n",
      "0.0\n",
      "-1.55273663e-36\n",
      "1.35278273\n",
      "-1.35482623e-14\n",
      "0.0\n",
      "3.5024704e-38\n",
      "100.0\n",
      "3.41089861e-35\n",
      "-21.8520203\n",
      "0.0\n",
      "0.00228426699\n",
      "1.87962189e-20\n",
      "-3012681.5\n",
      "100.0\n",
      "-1.30881371e-15\n",
      "7.52309357e-22\n",
      "0.0\n",
      "0.0\n",
      "0.0\n",
      "2.06913564e-14\n",
      "1.92692552e-41\n",
      "1.62530017e-19\n",
      "0.0\n",
      "1.13568092e-07\n",
      "2.61482293e-42\n",
      "-1.30881371e-15\n",
      "31.674468278884888\n"
     ]
    }
   ],
   "source": [
    "start = time.time()\n",
    "for ph in rand_disease_profile:\n",
    "    ic = oi.get_information_content(ph)\n",
    "    print(ic)\n",
    "end = time.time()\n",
    "print(end-start)"
   ],
   "metadata": {
    "collapsed": false
   }
  },
  {
   "cell_type": "code",
   "execution_count": null,
   "outputs": [],
   "source": [
    "\n"
   ],
   "metadata": {
    "collapsed": false
   }
  }
 ],
 "metadata": {
  "kernelspec": {
   "display_name": "Python 3",
   "language": "python",
   "name": "python3"
  },
  "language_info": {
   "codemirror_mode": {
    "name": "ipython",
    "version": 2
   },
   "file_extension": ".py",
   "mimetype": "text/x-python",
   "name": "python",
   "nbconvert_exporter": "python",
   "pygments_lexer": "ipython2",
   "version": "2.7.6"
  }
 },
 "nbformat": 4,
 "nbformat_minor": 0
}
