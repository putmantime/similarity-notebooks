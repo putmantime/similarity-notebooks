{
 "cells": [
  {
   "cell_type": "code",
   "execution_count": 32,
   "metadata": {
    "collapsed": true
   },
   "outputs": [],
   "source": [
    "import requests\n",
    "import json\n",
    "import time\n"
   ]
  },
  {
   "cell_type": "code",
   "execution_count": 33,
   "outputs": [],
   "source": [
    "with open('eds-hm.json') as f:\n",
    "    eds_phenotypes = [x['object'] for x in json.load(f)['items']]\n",
    "with open('hemo.json') as f:\n",
    "    hemo_phenotypes = [x['object'] for x in json.load(f)['items']]"
   ],
   "metadata": {
    "collapsed": false
   }
  },
  {
   "cell_type": "markdown",
   "source": [
    "## Owlsim"
   ],
   "metadata": {
    "collapsed": false
   }
  },
  {
   "cell_type": "code",
   "execution_count": 34,
   "outputs": [],
   "source": [
    "api_url =  \"https://api.monarchinitiative.org/api/\"\n",
    "endpoint =  \"sim/compare\""
   ],
   "metadata": {
    "collapsed": false
   }
  },
  {
   "cell_type": "markdown",
   "source": [
    "## Compare 2 EDS phenotypes to 2 hemophilia phenotypes"
   ],
   "metadata": {
    "collapsed": false
   }
  },
  {
   "cell_type": "code",
   "execution_count": 36,
   "outputs": [
    {
     "name": "stdout",
     "output_type": "stream",
     "text": [
      "0.37435197830200195\n"
     ]
    }
   ],
   "source": [
    "params_2 =  {\n",
    "    \"is_feature_set\": True,\n",
    "    \"metric\": \"phenodigm\",\n",
    "    \"ref_id\": eds_phenotypes[:21],\n",
    "    \"query_id\": hemo_phenotypes[:21]\n",
    "}\n",
    "start = time.time()\n",
    "r = requests.get(api_url + endpoint, params=params_2)\n",
    "end = time.time()\n",
    "print(end - start)"
   ],
   "metadata": {
    "collapsed": false
   }
  },
  {
   "cell_type": "markdown",
   "source": [
    "## Compare All 65 EDS phenotypes to all 125 hemophilia phenotypes"
   ],
   "metadata": {
    "collapsed": false
   }
  },
  {
   "cell_type": "code",
   "execution_count": 37,
   "outputs": [
    {
     "name": "stdout",
     "output_type": "stream",
     "text": [
      "0.2981913089752197\n"
     ]
    }
   ],
   "source": [
    "params_all =  {\n",
    "    \"is_feature_set\": True,\n",
    "    \"metric\": \"phenodigm\",\n",
    "    \"ref_id\": eds_phenotypes + hemo_phenotypes,\n",
    "    \"query_id\": hemo_phenotypes}\n",
    "start = time.time()\n",
    "r = requests.get(api_url + endpoint, params=params_2)\n",
    "end = time.time()\n",
    "print(end - start)"
   ],
   "metadata": {
    "collapsed": false
   }
  },
  {
   "cell_type": "markdown",
   "source": [
    "## Owlsim Search for similar diseases to Hemophilia"
   ],
   "metadata": {
    "collapsed": false
   }
  },
  {
   "cell_type": "code",
   "execution_count": 39,
   "outputs": [
    {
     "name": "stdout",
     "output_type": "stream",
     "text": [
      "10.033634901046753\n"
     ]
    }
   ],
   "source": [
    "search_endpoint = \"sim/search\"\n",
    "search_params = {\n",
    "    \"is_feature_set\": True,\n",
    "    \"metric\": \"phenodigm\",\n",
    "    \"id\": eds_phenotypes,\n",
    "    \"limit\": 20}\n",
    "start = time.time()\n",
    "r = requests.get(api_url + search_endpoint, params=search_params)\n",
    "end = time.time()\n",
    "print(end - start)"
   ],
   "metadata": {
    "collapsed": false
   }
  },
  {
   "cell_type": "markdown",
   "source": [
    "## SemSimian"
   ],
   "metadata": {
    "collapsed": false
   }
  },
  {
   "cell_type": "code",
   "execution_count": 10,
   "outputs": [],
   "source": [
    "ss_url = \"https://api-dev.monarchinitiative.org\"\n",
    "ss_endpoint = \"/v3/api/semsim/compare\"\n"
   ],
   "metadata": {
    "collapsed": false
   }
  },
  {
   "cell_type": "markdown",
   "source": [
    "## Compare 1 EDS phenotypes to 1 hemophilia phenotypes"
   ],
   "metadata": {
    "collapsed": false
   }
  },
  {
   "cell_type": "code",
   "execution_count": 41,
   "outputs": [
    {
     "name": "stdout",
     "output_type": "stream",
     "text": [
      "4.232216119766235\n"
     ]
    }
   ],
   "source": [
    "ss_params = {\n",
    "  \"subjects\": eds_phenotypes[:1],\n",
    "  \"objects\": hemo_phenotypes[:1],\n",
    "\n",
    "}\n",
    "# ss_params = {\n",
    "#   \"subjects\": [\"MP:0010771\",\"MP:0002169\",\"MP:0005391\",\"MP:0005389\",\"MP:0005367\"],\n",
    "#   \"objects\": [\"HP:0004325\",\"HP:0000093\",\"MP:0006144\"]\n",
    "# }\n",
    "# ss_url = \"https://semsim-dev.monarchinitiative.org/v3/api/semsim/compare/HP%3A0000174/HP%3A0001892\"\n",
    "# ss_url_comp = ss_url + ss_endpoint + f\"/{eds_phenotypes[1]}/{hemo_phenotypes[1]}\"\n",
    "start = time.time()\n",
    "rs = requests.post(ss_url + ss_endpoint, json=ss_params)\n",
    "end = time.time()\n",
    "print(end-start)\n",
    "# print(rs.json())"
   ],
   "metadata": {
    "collapsed": false
   }
  },
  {
   "cell_type": "markdown",
   "source": [
    "## Compare all 65 EDS phenotypes to 125 hemophilia phenotypes"
   ],
   "metadata": {
    "collapsed": false
   }
  },
  {
   "cell_type": "code",
   "execution_count": 42,
   "outputs": [
    {
     "name": "stdout",
     "output_type": "stream",
     "text": [
      "4.6510210037231445\n"
     ]
    }
   ],
   "source": [
    "ss_params = {\n",
    "  \"subjects\": eds_phenotypes,\n",
    "  \"objects\": hemo_phenotypes,\n",
    "\n",
    "}\n",
    "start = time.time()\n",
    "rs = requests.post(ss_url + ss_endpoint, json=ss_params)\n",
    "end = time.time()\n",
    "print(end-start)"
   ],
   "metadata": {
    "collapsed": false
   }
  }
 ],
 "metadata": {
  "kernelspec": {
   "display_name": "Python 3",
   "language": "python",
   "name": "python3"
  },
  "language_info": {
   "codemirror_mode": {
    "name": "ipython",
    "version": 2
   },
   "file_extension": ".py",
   "mimetype": "text/x-python",
   "name": "python",
   "nbconvert_exporter": "python",
   "pygments_lexer": "ipython2",
   "version": "2.7.6"
  }
 },
 "nbformat": 4,
 "nbformat_minor": 0
}
